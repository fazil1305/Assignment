{
 "cells": [
  {
   "cell_type": "code",
   "execution_count": 22,
   "metadata": {},
   "outputs": [
    {
     "name": "stdout",
     "output_type": "stream",
     "text": [
      "Input:\n",
      "Please insert the number :7\n",
      "Output:\n",
      "List of First n Natural numbers are: [1, 2, 3, 4, 5, 6, 7]\n",
      "Sum of List elements are : 28\n"
     ]
    }
   ],
   "source": [
    "def myreduce(num):\n",
    "    \n",
    "    num_list=list(range(1,number+1))\n",
    "    sum_of_elements=0\n",
    "    \n",
    "    for i in num_list:\n",
    "        sum_of_elements+=i\n",
    "        \n",
    "    return num_list,sum_of_elements\n",
    "\n",
    " \n",
    "print(\"Input:\")\n",
    "number=int(input(\"Please insert the number :\"))\n",
    "\n",
    "\n",
    "\n",
    "output_value=myreduce(number)\n",
    "\n",
    "\n",
    "print(\"Output:\")\n",
    "print(\"List of First n Natural numbers are:\",output_value[0])\n",
    "print(\"Sum of List elements are :\",output_value[1])"
   ]
  },
  {
   "cell_type": "code",
   "execution_count": 23,
   "metadata": {},
   "outputs": [
    {
     "name": "stdout",
     "output_type": "stream",
     "text": [
      "Input:\n",
      "Please insert the number: 8\n",
      "Output:\n",
      "List of numbers: [1, 2, 3, 4, 5, 6, 7, 8]\n",
      "List of Even numbers, which are multiples of 5 are: []\n",
      "List of Odd numbers, which are multiples of 5 are: [5]\n"
     ]
    }
   ],
   "source": [
    "print(\"Input:\")\n",
    "number=int(input(\"Please insert the number: \"))\n",
    "\n",
    "num_list=list(range(1,number+1))\n",
    "\n",
    "\n",
    "def myfilter(num_list):\n",
    "    \n",
    "    num_even_list=[]\n",
    "    num_odd_list=[]\n",
    "    \n",
    "    for i in num_list:\n",
    "        if(i%5==0):\n",
    "            if(i%2==0):\n",
    "                num_even_list.append(i)\n",
    "            else:\n",
    "                num_odd_list.append(i)\n",
    "                \n",
    "    return num_even_list,num_odd_list\n",
    "\n",
    "\n",
    "\n",
    "output_value=myfilter(num_list)\n",
    "\n",
    "\n",
    "\n",
    "print(\"Output:\")\n",
    "print(\"List of numbers:\",num_list)\n",
    "print(\"List of Even numbers, which are multiples of 5 are:\",output_value[0])\n",
    "print(\"List of Odd numbers, which are multiples of 5 are:\",output_value[1])"
   ]
  },
  {
   "cell_type": "code",
   "execution_count": 28,
   "metadata": {},
   "outputs": [
    {
     "name": "stdout",
     "output_type": "stream",
     "text": [
      "['x', 'xx', 'xxx', 'xxxx', 'y', 'yy', 'yyy', 'yyyy', 'z', 'zz', 'zzz', 'zzzz']\n",
      "['x', 'y', 'z', 'xx', 'yy', 'zz', 'xxx', 'yyy', 'zzz', 'xxxx', 'yyyy', 'zzzz']\n",
      "[[2], [3], [4], [3], [4], [5], [4], [5], [6], [2, 3, 4, 5], [3, 4, 5, 6], [4, 5, 6, 7], [5, 6, 7, 8]]\n",
      "[[2, 3, 4, 5], [3, 4, 5, 6], [4, 5, 6, 7], [5, 6, 7, 8]]\n",
      "[(1, 1), (2, 1), (3, 1), (1, 2), (2, 2), (3, 2), (1, 3), (2, 3), (3, 3)]\n"
     ]
    }
   ],
   "source": [
    "word_1=list('xyz')\n",
    "word_2=[x*n for x in word_1 for n in range(1,5) ]\n",
    "print(word_2)\n",
    "\n",
    "#Section 3\n",
    "word_3=[x*n for n in range(1,5) for x in word_1 ]\n",
    "print(word_3)\n",
    "\n",
    "#Section 4\n",
    "number=[2,3,4]\n",
    "num=[2,3,4,5]\n",
    "number_1=[[x+n] for x in number for n in range(0,3)]\n",
    "number_2=[[x+n for n in range(0,4)] for x in num]\n",
    "print(number_1 + number_2)\n",
    "\n",
    "#Section 6\n",
    "number_5=[1,2,3]\n",
    "number_6= [(b,a) for a in number_5 for b in number_5]\n",
    "print(number_6)"
   ]
  },
  {
   "cell_type": "code",
   "execution_count": null,
   "metadata": {},
   "outputs": [],
   "source": []
  }
 ],
 "metadata": {
  "kernelspec": {
   "display_name": "Python 3",
   "language": "python",
   "name": "python3"
  },
  "language_info": {
   "codemirror_mode": {
    "name": "ipython",
    "version": 3
   },
   "file_extension": ".py",
   "mimetype": "text/x-python",
   "name": "python",
   "nbconvert_exporter": "python",
   "pygments_lexer": "ipython3",
   "version": "3.7.6"
  }
 },
 "nbformat": 4,
 "nbformat_minor": 4
}
